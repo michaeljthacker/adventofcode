{
 "cells": [
  {
   "cell_type": "code",
   "execution_count": 1,
   "metadata": {},
   "outputs": [],
   "source": [
    "# Input data: /FY20_AdHoc/2021_AdventOfCode/Day2/Day2_Data.txt\n",
    "\n",
    "# Goal 1: What is the power consumption of the submarine?\n",
    "# Goal 2: What is the life support rating of the submarine?\n",
    "\n",
    "# Strategy: Put input data into an NxK DataFrame, count zeroes and ones vertically. Convert from binary."
   ]
  },
  {
   "cell_type": "code",
   "execution_count": 2,
   "metadata": {},
   "outputs": [
    {
     "name": "stdout",
     "output_type": "stream",
     "text": [
      "C:\\Users\\mthacker\\OneDrive - Starbucks\\FY20_AdHoc\\2021_AdventOfCode\\Day3\n"
     ]
    }
   ],
   "source": [
    "# Set the working directory\n",
    "%cd \"C:\\Users\\mthacker\\OneDrive - Starbucks\\FY20_AdHoc\\2021_AdventOfCode\\Day3\""
   ]
  },
  {
   "cell_type": "code",
   "execution_count": 3,
   "metadata": {},
   "outputs": [],
   "source": [
    "import pandas as pd"
   ]
  },
  {
   "cell_type": "code",
   "execution_count": 4,
   "metadata": {},
   "outputs": [],
   "source": [
    "# Read the file to a dataframe\n",
    "data_file = open(\"Day3_Data.txt\", \"r\").read()\n",
    "data_df = pd.DataFrame([[int(s) for s in list(num)] for num in data_file.split('\\n') if len(num)>0])"
   ]
  },
  {
   "cell_type": "code",
   "execution_count": 5,
   "metadata": {},
   "outputs": [
    {
     "name": "stdout",
     "output_type": "stream",
     "text": [
      "The answer to part 1 is:  2972336\n"
     ]
    }
   ],
   "source": [
    "## Part 1, as described\n",
    "# Goal 1: What is the power consumption of the submarine?\n",
    "\n",
    "digits = list(data_df.mode().iloc[0])\n",
    "gamma = ''\n",
    "epsilon = ''\n",
    "for d in digits:\n",
    "    gamma += str(d)\n",
    "    epsilon += str(1-d)\n",
    "print(\"The answer to part 1 is: \", int(gamma, 2)*int(epsilon, 2))"
   ]
  },
  {
   "cell_type": "code",
   "execution_count": 6,
   "metadata": {},
   "outputs": [],
   "source": [
    "def getRating(df_in, keep_mode_val, tiebreak):\n",
    "    # Filter dataframe based on values of one column at a time.\n",
    "    \n",
    "    # Keep rows with column value matching the mode of the column if keep_mode_val==TRUE\n",
    "    # Else keep rows not matching the mode.\n",
    "    \n",
    "    # If 0 and 1 are equally likely, keep rows with value==tiebreak\n",
    "    \n",
    "    df = df_in.copy()\n",
    "    i = 0\n",
    "    while len(df)>1 and i<df.shape[1]:\n",
    "        # Find the mode\n",
    "        mode = df.iloc[:,i].mode()\n",
    "        \n",
    "        if len(mode)>1: keepval = tiebreak\n",
    "        elif keep_mode_val: keepval = mode[0]\n",
    "        else: keepval = 1 - mode[0]\n",
    "        \n",
    "        # Filter the dataframe\n",
    "        df = df[df.iloc[:,i]==keepval]\n",
    "        i += 1\n",
    "        \n",
    "    binary_list = list(df.iloc[0])\n",
    "    binary = ''\n",
    "    for s in binary_list:\n",
    "        binary += str(s)\n",
    "    rating = int(binary, 2)\n",
    "    return rating"
   ]
  },
  {
   "cell_type": "code",
   "execution_count": 7,
   "metadata": {},
   "outputs": [
    {
     "name": "stdout",
     "output_type": "stream",
     "text": [
      "The answer to part 2 is:  3368358\n"
     ]
    }
   ],
   "source": [
    "## Part 2, as described\n",
    "# Goal 2: What is the life support rating of the submarine?\n",
    "\n",
    "oxygen_rating = getRating(data_df, True, 1)\n",
    "co2_rating = getRating(data_df, False, 0)\n",
    "\n",
    "print(\"The answer to part 2 is: \", oxygen_rating*co2_rating)"
   ]
  },
  {
   "cell_type": "code",
   "execution_count": null,
   "metadata": {},
   "outputs": [],
   "source": []
  }
 ],
 "metadata": {
  "kernelspec": {
   "display_name": "Python 3",
   "language": "python",
   "name": "python3"
  },
  "language_info": {
   "codemirror_mode": {
    "name": "ipython",
    "version": 3
   },
   "file_extension": ".py",
   "mimetype": "text/x-python",
   "name": "python",
   "nbconvert_exporter": "python",
   "pygments_lexer": "ipython3",
   "version": "3.7.6"
  }
 },
 "nbformat": 4,
 "nbformat_minor": 4
}
