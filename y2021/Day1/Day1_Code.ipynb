{
 "cells": [
  {
   "cell_type": "code",
   "execution_count": 1,
   "metadata": {},
   "outputs": [],
   "source": [
    "# Input data: /FY20_AdHoc/2021_AdventOfCode/Day1a/inputdata.txt\n",
    "\n",
    "# Goal 1: How many measurements are larger than the previous measurement?\n",
    "# Goal 2: How many sums of 3 numbers are greater than the preceding 3 numbers (with overlap), i.e. B+C+D vs A+B+C?\n",
    "# Goal 2, simplified: How many measurements are larger than the third previous measurement, i.e. D vs A?\n",
    "\n",
    "# Strategy: Put data into list, count if listitem > listitem[-1]"
   ]
  },
  {
   "cell_type": "code",
   "execution_count": 2,
   "metadata": {},
   "outputs": [
    {
     "name": "stdout",
     "output_type": "stream",
     "text": [
      "C:\\Users\\mthacker\\OneDrive - Starbucks\\FY20_AdHoc\\2021_AdventOfCode\\Day1\n"
     ]
    }
   ],
   "source": [
    "# Set the working directory\n",
    "%cd \"C:\\Users\\mthacker\\OneDrive - Starbucks\\FY20_AdHoc/2021_AdventOfCode/Day1\""
   ]
  },
  {
   "cell_type": "code",
   "execution_count": 3,
   "metadata": {},
   "outputs": [],
   "source": [
    "# Read the file to a list\n",
    "data_file = open(\"inputdata.txt\", \"r\").read()\n",
    "data_list = [int(s) for s in data_file.split(\"\\n\") if len(s)>0]"
   ]
  },
  {
   "cell_type": "code",
   "execution_count": 4,
   "metadata": {},
   "outputs": [
    {
     "name": "stdout",
     "output_type": "stream",
     "text": [
      "The answer to part 1 is:  1292\n"
     ]
    }
   ],
   "source": [
    "## Part 1, as described\n",
    "# Goal 1: How many measurements are larger than the previous measurement?\n",
    "\n",
    "count_larger = 0\n",
    "i = 1\n",
    "while i < len(data_list):\n",
    "    if data_list[i] > data_list[i - 1]: count_larger += 1\n",
    "    i += 1\n",
    "print(\"The answer to part 1 is: \", count_larger)"
   ]
  },
  {
   "cell_type": "code",
   "execution_count": 5,
   "metadata": {},
   "outputs": [
    {
     "name": "stdout",
     "output_type": "stream",
     "text": [
      "The answer to part 2 is:  1262\n"
     ]
    }
   ],
   "source": [
    "## Part 2, exactly as described\n",
    "# Goal 2: How many sums of 3 numbers are greater than the preceding 3 numbers (with overlap), i.e. B+C+D vs A+B+C?\n",
    "\n",
    "count_larger2 = 0\n",
    "i = 1\n",
    "while i+2 < len(data_list):\n",
    "    if data_list[i] + data_list[i+1] + data_list[i+2] > data_list[i-1] + data_list[i] + data_list[i+1]: count_larger2 += 1\n",
    "    i += 1\n",
    "print(\"The answer to part 2 is: \", count_larger2)"
   ]
  },
  {
   "cell_type": "code",
   "execution_count": 6,
   "metadata": {},
   "outputs": [
    {
     "name": "stdout",
     "output_type": "stream",
     "text": [
      "The answer to part 2 is:  1262\n"
     ]
    }
   ],
   "source": [
    "## Using some basic algebra to simplify\n",
    "# Goal 2, simplified: How many measurements are larger than the third previous measurement, i.e. D vs A?\n",
    "\n",
    "count_larger3 = 0\n",
    "i = 3\n",
    "while i < len(data_list):\n",
    "    if data_list[i] > data_list[i - 3]: count_larger3 += 1\n",
    "    i += 1\n",
    "print(\"The answer to part 2 is: \", count_larger3)"
   ]
  },
  {
   "cell_type": "code",
   "execution_count": null,
   "metadata": {},
   "outputs": [],
   "source": []
  }
 ],
 "metadata": {
  "kernelspec": {
   "display_name": "Python 3",
   "language": "python",
   "name": "python3"
  },
  "language_info": {
   "codemirror_mode": {
    "name": "ipython",
    "version": 3
   },
   "file_extension": ".py",
   "mimetype": "text/x-python",
   "name": "python",
   "nbconvert_exporter": "python",
   "pygments_lexer": "ipython3",
   "version": "3.7.6"
  }
 },
 "nbformat": 4,
 "nbformat_minor": 4
}
