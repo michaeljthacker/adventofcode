{
 "cells": [
  {
   "cell_type": "code",
   "execution_count": 1,
   "metadata": {},
   "outputs": [],
   "source": [
    "# Input data: /FY20_AdHoc/2021_AdventOfCode/Day2/Day2_Data.txt\n",
    "\n",
    "# Goal 1: What do you get if you multiply your final horizontal position by your final depth?\n",
    "# Goal 2: What do you get if you multiply your final horizontal position by your final depth? **but different\n",
    "\n",
    "# Strategy: Define a function to interpret directions as a list. Add up all the instructions iteratively."
   ]
  },
  {
   "cell_type": "code",
   "execution_count": 2,
   "metadata": {},
   "outputs": [
    {
     "name": "stdout",
     "output_type": "stream",
     "text": [
      "C:\\Users\\mthacker\\OneDrive - Starbucks\\FY20_AdHoc\\2021_AdventOfCode\\Day2\n"
     ]
    }
   ],
   "source": [
    "# Set the working directory\n",
    "%cd \"C:\\Users\\mthacker\\OneDrive - Starbucks\\FY20_AdHoc\\2021_AdventOfCode\\Day2\""
   ]
  },
  {
   "cell_type": "code",
   "execution_count": 3,
   "metadata": {},
   "outputs": [],
   "source": [
    "# Function to interpret directions from input data\n",
    "def directionsFromInput(line):\n",
    "    num = [int(s) for s in line.split() if s.isdigit()][0]\n",
    "    if line[0]=='f': return [num,0]\n",
    "    if line[0]=='d': return [0,num]\n",
    "    if line[0]=='u': return [0,-num]"
   ]
  },
  {
   "cell_type": "code",
   "execution_count": 4,
   "metadata": {},
   "outputs": [],
   "source": [
    "# Read the file to a list\n",
    "data_file = open(\"Day2_Data.txt\", \"r\").read()\n",
    "data_list = [directionsFromInput(s) for s in data_file.split(\"\\n\") if len(s)>0]"
   ]
  },
  {
   "cell_type": "code",
   "execution_count": 5,
   "metadata": {},
   "outputs": [
    {
     "name": "stdout",
     "output_type": "stream",
     "text": [
      "The answer to part 1 is:  2039912\n"
     ]
    }
   ],
   "source": [
    "## Part 1, as described\n",
    "# Goal 1: What do you get if you multiply your final horizontal position by your final depth?\n",
    "\n",
    "position = [0, 0]\n",
    "i = 0\n",
    "while i < len(data_list):\n",
    "    position[0] += data_list[i][0]\n",
    "    position[1] += data_list[i][1]\n",
    "    i += 1\n",
    "print(\"The answer to part 1 is: \", position[0]*position[1])"
   ]
  },
  {
   "cell_type": "code",
   "execution_count": 6,
   "metadata": {},
   "outputs": [
    {
     "name": "stdout",
     "output_type": "stream",
     "text": [
      "The answer to part 2 is:  1942068080\n"
     ]
    }
   ],
   "source": [
    "## Part 2, as described\n",
    "# Goal 2: What do you get if you multiply your final horizontal position by your final depth? **but different\n",
    "\n",
    "position = [0, 0]\n",
    "aim = 0\n",
    "i = 0\n",
    "while i < len(data_list):\n",
    "    position[0] += data_list[i][0]\n",
    "    position[1] += data_list[i][0]*aim\n",
    "    aim += data_list[i][1]\n",
    "    i += 1\n",
    "print(\"The answer to part 2 is: \", position[0]*position[1])"
   ]
  },
  {
   "cell_type": "code",
   "execution_count": null,
   "metadata": {},
   "outputs": [],
   "source": []
  }
 ],
 "metadata": {
  "kernelspec": {
   "display_name": "Python 3",
   "language": "python",
   "name": "python3"
  },
  "language_info": {
   "codemirror_mode": {
    "name": "ipython",
    "version": 3
   },
   "file_extension": ".py",
   "mimetype": "text/x-python",
   "name": "python",
   "nbconvert_exporter": "python",
   "pygments_lexer": "ipython3",
   "version": "3.7.6"
  }
 },
 "nbformat": 4,
 "nbformat_minor": 4
}
